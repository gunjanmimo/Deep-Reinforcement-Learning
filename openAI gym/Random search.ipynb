{
 "cells": [
  {
   "cell_type": "code",
   "execution_count": 2,
   "metadata": {},
   "outputs": [],
   "source": [
    "from __future__ import print_function, division\n",
    "from builtins import range"
   ]
  },
  {
   "cell_type": "code",
   "execution_count": 3,
   "metadata": {},
   "outputs": [],
   "source": [
    "import gym \n",
    "import numpy as np\n",
    "import matplotlib.pyplot as plt"
   ]
  },
  {
   "cell_type": "code",
   "execution_count": 4,
   "metadata": {},
   "outputs": [],
   "source": [
    "def get_action(s,w):\n",
    "    return 1 if s.dot(w)>0 else 0"
   ]
  },
  {
   "cell_type": "code",
   "execution_count": 5,
   "metadata": {},
   "outputs": [],
   "source": [
    "def play_one_episode(env, params):\n",
    "    observation = env.reset()\n",
    "    done = False\n",
    "    t = 0\n",
    "    \n",
    "    while not done and t<10000:\n",
    "        t +=1\n",
    "        action = get_action(observation, params)\n",
    "        observation, rewards, done, info = env.step(action)\n",
    "        if done: \n",
    "            break\n",
    "    return t"
   ]
  },
  {
   "cell_type": "code",
   "execution_count": 6,
   "metadata": {},
   "outputs": [],
   "source": [
    "def play_multiple_episodes(env, T, params):\n",
    "    episode_lengths = np.empty(T)\n",
    "    for i in range(T):\n",
    "        episode_lengths[i]=play_one_episode(env, params)\n",
    "    \n",
    "    avg_length = episode_lengths.mean()\n",
    "    print(\"avg length: \", avg_length)\n",
    "    return avg_length\n",
    "    \n",
    "    "
   ]
  },
  {
   "cell_type": "code",
   "execution_count": 8,
   "metadata": {},
   "outputs": [],
   "source": [
    "def random_search(env):\n",
    "    episode_length = []\n",
    "    best = 0 \n",
    "    params = None\n",
    "    \n",
    "    for t in range(100):\n",
    "        new_params = np.random.random(4)*2-1\n",
    "        avg_length = play_multiple_episodes(env, 100, new_params)\n",
    "        episode_length.append(avg_length)\n",
    "        \n",
    "        if avg_length > best:\n",
    "            params = new_params\n",
    "            best = avg_length\n",
    "    return episode_length, params\n",
    "    \n",
    "        "
   ]
  },
  {
   "cell_type": "code",
   "execution_count": 10,
   "metadata": {},
   "outputs": [
    {
     "name": "stdout",
     "output_type": "stream",
     "text": [
      "avg length:  9.18\n",
      "avg length:  200.0\n",
      "avg length:  199.41\n",
      "avg length:  9.0\n",
      "avg length:  74.39\n",
      "avg length:  9.57\n",
      "avg length:  9.85\n",
      "avg length:  9.38\n",
      "avg length:  9.17\n",
      "avg length:  9.64\n",
      "avg length:  133.46\n",
      "avg length:  9.73\n",
      "avg length:  9.01\n",
      "avg length:  59.29\n",
      "avg length:  52.61\n",
      "avg length:  88.28\n",
      "avg length:  32.86\n",
      "avg length:  75.05\n",
      "avg length:  65.05\n",
      "avg length:  59.95\n",
      "avg length:  66.71\n",
      "avg length:  8.94\n",
      "avg length:  9.04\n",
      "avg length:  14.1\n",
      "avg length:  9.67\n",
      "avg length:  31.49\n",
      "avg length:  28.53\n",
      "avg length:  9.38\n",
      "avg length:  8.82\n",
      "avg length:  9.33\n",
      "avg length:  22.84\n",
      "avg length:  9.71\n",
      "avg length:  9.15\n",
      "avg length:  9.3\n",
      "avg length:  9.04\n",
      "avg length:  9.06\n",
      "avg length:  9.26\n",
      "avg length:  68.05\n",
      "avg length:  9.09\n",
      "avg length:  9.46\n",
      "avg length:  83.53\n",
      "avg length:  101.36\n",
      "avg length:  9.19\n",
      "avg length:  8.85\n",
      "avg length:  94.04\n",
      "avg length:  42.19\n",
      "avg length:  150.97\n",
      "avg length:  168.53\n",
      "avg length:  9.08\n",
      "avg length:  9.11\n",
      "avg length:  90.73\n",
      "avg length:  26.37\n",
      "avg length:  23.56\n",
      "avg length:  9.2\n",
      "avg length:  40.55\n",
      "avg length:  73.98\n",
      "avg length:  11.78\n",
      "avg length:  9.64\n",
      "avg length:  9.67\n",
      "avg length:  9.47\n",
      "avg length:  9.07\n",
      "avg length:  55.72\n",
      "avg length:  36.62\n",
      "avg length:  9.81\n",
      "avg length:  102.07\n",
      "avg length:  20.79\n",
      "avg length:  9.25\n",
      "avg length:  154.85\n",
      "avg length:  9.9\n",
      "avg length:  70.86\n",
      "avg length:  88.13\n",
      "avg length:  37.54\n",
      "avg length:  9.52\n",
      "avg length:  9.35\n",
      "avg length:  9.65\n",
      "avg length:  9.12\n",
      "avg length:  9.72\n",
      "avg length:  29.63\n",
      "avg length:  200.0\n",
      "avg length:  31.57\n",
      "avg length:  8.97\n",
      "avg length:  48.33\n",
      "avg length:  9.79\n",
      "avg length:  185.27\n",
      "avg length:  9.22\n",
      "avg length:  8.96\n",
      "avg length:  30.04\n",
      "avg length:  9.81\n",
      "avg length:  136.75\n",
      "avg length:  42.3\n",
      "avg length:  9.06\n",
      "avg length:  16.88\n",
      "avg length:  9.43\n",
      "avg length:  9.73\n",
      "avg length:  9.08\n",
      "avg length:  8.9\n",
      "avg length:  85.76\n",
      "avg length:  9.69\n",
      "avg length:  20.27\n",
      "avg length:  9.4\n"
     ]
    },
    {
     "data": {
      "image/png": "[encoded data removed]",
      "text/plain": [
       "<Figure size 432x288 with 1 Axes>"
      ]
     },
     "metadata": {
      "needs_background": "light"
     },
     "output_type": "display_data"
    },
    {
     "name": "stdout",
     "output_type": "stream",
     "text": [
      "*** Final run with final weight ***\n",
      "avg length:  200.0\n"
     ]
    }
   ],
   "source": [
    "if __name__ == \"__main__\":\n",
    "    env = gym.make(\"CartPole-v0\")\n",
    "    episode_lengths, params = random_search(env)\n",
    "    plt.plot(episode_lengths)\n",
    "    plt.show()\n",
    "    \n",
    "    \n",
    "    #play final set of episodes\n",
    "    \n",
    "    print(\"*** Final run with final weight ***\")\n",
    "    play_multiple_episodes(env, 100, params)"
   ]
  },
  {
   "cell_type": "code",
   "execution_count": null,
   "metadata": {},
   "outputs": [],
   "source": []
  }
 ],
 "metadata": {
  "kernelspec": {
   "display_name": "Python 3",
   "language": "python",
   "name": "python3"
  },
  "language_info": {
   "codemirror_mode": {
    "name": "ipython",
    "version": 3
   },
   "file_extension": ".py",
   "mimetype": "text/x-python",
   "name": "python",
   "nbconvert_exporter": "python",
   "pygments_lexer": "ipython3",
   "version": "3.8.3"
  }
 },
 "nbformat": 4,
 "nbformat_minor": 4
}
